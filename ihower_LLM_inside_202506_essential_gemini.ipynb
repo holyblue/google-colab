{
  "cells": [
    {
      "cell_type": "raw",
      "metadata": {
        "vscode": {
          "languageId": "raw"
        }
      },
      "source": [
        "這份 Notebook 示範 Google Gemini API 的使用\n",
        "\n",
        "### Google Colab Tips\n",
        "\n",
        "* 用 Shift+Enter 可以執行程式區塊 (或是滑鼠點前面的執行符號)\n",
        "* 如果要修改存檔，需要先點 \"檔案\" -> \"在雲端硬碟中儲存副本\"，複製到你自己的目錄下，才可以儲存\n"
      ]
    },
    {
      "cell_type": "raw",
      "metadata": {
        "vscode": {
          "languageId": "raw"
        }
      },
      "source": [
        "## 設定 Google Gemini API Key 變數\n",
        "\n",
        "請點開左側欄的Key符號，就可以設定 Secret。請設定 gemini_api_key\n",
        "\n",
        "請到 https://aistudio.google.com/app/apikey 申請 Gemini API Key\n",
        "\n",
        "* 免費方案有一定的使用限制，但對於學習來說已經足夠\n",
        "* API Key 請妥善保管，不要公開分享\n"
      ]
    },
    {
      "cell_type": "code",
      "execution_count": null,
      "metadata": {},
      "outputs": [],
      "source": [
        "from google.colab import userdata\n",
        "gemini_api_key = userdata.get('gemini_api_key')\n"
      ]
    },
    {
      "cell_type": "code",
      "execution_count": null,
      "metadata": {},
      "outputs": [],
      "source": [
        "import requests\n",
        "import json\n",
        "from pprint import pp\n"
      ]
    },
    {
      "cell_type": "code",
      "execution_count": null,
      "metadata": {},
      "outputs": [],
      "source": [
        "# 使用 HTTP 請求直接呼叫 Gemini API\n",
        "payload = {\n",
        "    \"contents\": [\n",
        "        {\n",
        "            \"parts\": [\n",
        "                {\n",
        "                    \"text\": \"你好，最近過得如何?\"\n",
        "                }\n",
        "            ]\n",
        "        }\n",
        "    ],\n",
        "    \"generationConfig\": {\n",
        "        \"temperature\": 0  # 可以改改看 溫度\n",
        "    }\n",
        "}\n",
        "\n",
        "headers = {\n",
        "    \"Content-Type\": \"application/json\"\n",
        "}\n",
        "\n",
        "# Gemini API endpoint\n",
        "url = f\"https://generativelanguage.googleapis.com/v1beta/models/gemini-1.5-flash:generateContent?key={gemini_api_key}\"\n",
        "\n",
        "response = requests.post(url, headers=headers, data=json.dumps(payload))\n",
        "\n",
        "obj = json.loads(response.text)\n",
        "\n",
        "pp(obj)\n"
      ]
    },
    {
      "cell_type": "raw",
      "metadata": {
        "vscode": {
          "languageId": "raw"
        }
      },
      "source": [
        "## 使用 Google AI Python SDK\n",
        "\n",
        "https://github.com/google/generative-ai-python\n"
      ]
    },
    {
      "cell_type": "code",
      "execution_count": null,
      "metadata": {},
      "outputs": [],
      "source": [
        "%pip install google-generativeai\n"
      ]
    },
    {
      "cell_type": "code",
      "execution_count": null,
      "metadata": {},
      "outputs": [],
      "source": [
        "import google.generativeai as genai\n",
        "\n",
        "# 設定 API Key\n",
        "genai.configure(api_key=gemini_api_key)\n",
        "\n",
        "# 初始化模型\n",
        "model = genai.GenerativeModel('gemini-1.5-flash')\n",
        "\n",
        "# 生成回應\n",
        "response = model.generate_content(\"你好，最近過得如何?\")\n",
        "\n",
        "print(response.text)\n"
      ]
    },
    {
      "cell_type": "raw",
      "metadata": {
        "vscode": {
          "languageId": "raw"
        }
      },
      "source": [
        "## 使用 System Instruction\n"
      ]
    },
    {
      "cell_type": "code",
      "execution_count": null,
      "metadata": {},
      "outputs": [],
      "source": [
        "# 這是 completion 風格(蠻多教材仍這樣寫)\n",
        "user_message = \"\"\"請分類以下文字是 neutral, negative 或 positive\n",
        "文字: 我覺得這個披薩實在太好吃啦\n",
        "情緒:\n",
        "\"\"\"\n",
        "\n",
        "response = model.generate_content(user_message)\n",
        "print(response.text)\n"
      ]
    },
    {
      "cell_type": "code",
      "execution_count": null,
      "metadata": {},
      "outputs": [],
      "source": [
        "# 可改成使用 system instruction 的風格: 把不變的整體指示放在 system instruction\n",
        "# user prompt 放變動的用戶輸入\n",
        "\n",
        "# 使用 system instruction 創建模型\n",
        "model_with_system = genai.GenerativeModel(\n",
        "    'gemini-1.5-flash',\n",
        "    system_instruction=\"請分類以下文字是 neutral, negative 或 positive\"\n",
        ")\n",
        "\n",
        "user_message = \"\"\"\n",
        "文字: 我覺得這個披薩實在太好吃啦\n",
        "\"\"\"\n",
        "\n",
        "response = model_with_system.generate_content(user_message)\n",
        "print(response.text)\n"
      ]
    },
    {
      "cell_type": "raw",
      "metadata": {
        "vscode": {
          "languageId": "raw"
        }
      },
      "source": [
        "## 連續對話多輪對話的場景示範\n",
        "\n",
        "* 模型是 Stateless 無狀態的\n",
        "* 每次你都得把所有對話歷史傳給 Gemini API\n"
      ]
    },
    {
      "cell_type": "code",
      "execution_count": null,
      "metadata": {},
      "outputs": [],
      "source": [
        "# 使用 ChatSession 進行連續對話\n",
        "model_chat = genai.GenerativeModel('gemini-1.5-flash', \n",
        "                                   system_instruction=\"You are a helpful assistant.\")\n",
        "\n",
        "chat = model_chat.start_chat()\n",
        "\n",
        "# 第一輪問答\n",
        "response1 = chat.send_message(\"誰贏得2013年的世界棒球經典賽冠軍?\")\n",
        "print(\"第一輪回答:\", response1.text)\n"
      ]
    },
    {
      "cell_type": "code",
      "execution_count": null,
      "metadata": {},
      "outputs": [],
      "source": [
        "# 延續同一個對話的 第二輪問答\n",
        "response2 = chat.send_message(\"那2017年呢?\")\n",
        "print(\"第二輪回答:\", response2.text)\n"
      ]
    },
    {
      "cell_type": "code",
      "execution_count": null,
      "metadata": {},
      "outputs": [],
      "source": [
        "# 延續同一個對話的 第三輪問答\n",
        "response3 = chat.send_message(\"美國隊贏過幾次冠軍?\")\n",
        "print(\"第三輪回答:\", response3.text)\n"
      ]
    },
    {
      "cell_type": "raw",
      "metadata": {
        "vscode": {
          "languageId": "raw"
        }
      },
      "source": [
        "### 模型的幻覺現象 Hallucination\n",
        "\n",
        "比較聰明的模型，幻覺現象會比較少\n"
      ]
    },
    {
      "cell_type": "code",
      "execution_count": null,
      "metadata": {},
      "outputs": [],
      "source": [
        "# 如果 第二輪問答時 是問 2018 年\n",
        "chat_new = model_chat.start_chat()\n",
        "chat_new.send_message(\"誰贏得2013年的世界棒球經典賽冠軍?\")\n",
        "response4 = chat_new.send_message(\"那2018年呢?\")\n",
        "print(\"2018年回答:\", response4.text)\n"
      ]
    },
    {
      "cell_type": "code",
      "execution_count": null,
      "metadata": {},
      "outputs": [],
      "source": [
        "# 換一種問法 減少幻覺現象\n",
        "chat_better = model_chat.start_chat()\n",
        "chat_better.send_message(\"誰贏得2013年的世界棒球經典賽冠軍?\")\n",
        "response5 = chat_better.send_message(\"那2018年呢? 如果沒舉辦，請回答沒舉辦\")\n",
        "print(\"改善後的2018年回答:\", response5.text)\n"
      ]
    },
    {
      "cell_type": "raw",
      "metadata": {
        "vscode": {
          "languageId": "raw"
        }
      },
      "source": [
        "## Few-shot prompting\n"
      ]
    },
    {
      "cell_type": "code",
      "execution_count": null,
      "metadata": {},
      "outputs": [],
      "source": [
        "# 出處: https://www.promptingguide.ai/zh/techniques/fewshot\n",
        "prompt = f\"\"\"\n",
        "請判斷情緒:\n",
        "\n",
        "input: 這太棒了！\n",
        "output: Positive\n",
        "\n",
        "input: 這太糟糕了！\n",
        "output: Negative\n",
        "\n",
        "input: 哇，那部電影太棒了！\n",
        "output: Positive\n",
        "\n",
        "input: 多麼可怕的節目\n",
        "output:\n",
        "\"\"\"\n",
        "\n",
        "response = model.generate_content(prompt)\n",
        "print(response.text)\n"
      ]
    },
    {
      "cell_type": "code",
      "execution_count": null,
      "metadata": {},
      "outputs": [],
      "source": [
        "# *在一些較難描述明確指示的任務中，蠻適合用* few-shot 的方式讓模型自己學，例如文字風格、特定的輸出結構(某種schema)\n",
        "\n",
        "# 沒給範例\n",
        "prompt = f\"\"\"\n",
        "晶晶體是一種流行於臺灣以中文為基底，夾雜英語不成句的單字或片語的表達方式。特指所使用的英文字多為過於簡單、沒有替換必要者，進而產生有意炫耀雙語能力卻弄巧成拙的效果。\n",
        "\n",
        "原文: 每位員工都要參加每週電話會議，沒有例外\n",
        "晶晶體:\n",
        "\"\"\"\n",
        "\n",
        "response = model.generate_content(prompt)\n",
        "print(response.text)\n"
      ]
    },
    {
      "cell_type": "code",
      "execution_count": null,
      "metadata": {},
      "outputs": [],
      "source": [
        "# 給範例讓模型學風格，可以學得更好\n",
        "prompt = f\"\"\"\n",
        "晶晶體是一種流行於臺灣以中文為基底，夾雜英語不成句的單字或片語的表達方式。特指所使用的英文字多為過於簡單、沒有替換必要者，進而產生有意炫耀雙語能力卻弄巧成拙的效果。\n",
        "例如:\n",
        "\n",
        "原文: 我很忙，因為我很有事要做\n",
        "晶晶體: 我是很busy，因為我很多things要do\n",
        "\n",
        "原文: 天氣總算放晴，沒有下雨、太陽很大、有點熱、讓我想到以前還是學生時，喜歡在這樣的天氣，吃一球冰淇淋，真的會讓人很高興\n",
        "晶晶體: 天氣總算放晴，沒有rain、太陽很big、有點hot、讓我想到以前還是student時，喜歡在這樣的天氣，吃一球ice cream，真的會讓人很happy\n",
        "\n",
        "原文: 每位員工都要參加每週電話會議，沒有例外\n",
        "晶晶體:\n",
        "\"\"\"\n",
        "\n",
        "response = model.generate_content(prompt)\n",
        "print(response.text)\n"
      ]
    },
    {
      "cell_type": "raw",
      "metadata": {
        "vscode": {
          "languageId": "raw"
        }
      },
      "source": [
        "## Chain-of-Thought (CoT) Prompting\n",
        "\n",
        "* 給模型思考時間\n",
        "* 示範如何拆解步驟，好讓模型對一個問題進行更長的思考時間 (也就是，有更多的輸出)\n",
        "\n",
        "出處 CoT Paper: https://arxiv.org/abs/2201.11903\n"
      ]
    },
    {
      "cell_type": "code",
      "execution_count": null,
      "metadata": {},
      "outputs": [],
      "source": [
        "# 出處: https://promptingguide.azurewebsites.net/techniques/cot\n",
        "prompt = \"\"\"\n",
        "我去市場買了10個蘋果。我給了鄰居2個蘋果，又給修理工2個蘋果。之後，我又去買了5個蘋果，然後吃了1個。我還剩下多少個蘋果？\n",
        "\"\"\"\n",
        "\n",
        "response = model.generate_content(prompt)\n",
        "print(response.text)\n"
      ]
    },
    {
      "cell_type": "code",
      "execution_count": null,
      "metadata": {},
      "outputs": [],
      "source": [
        "# Few-shot CoT - 給一個推理範例，也就是 Chain of Thought (CoT) 思考過程\n",
        "prompt = \"\"\"\n",
        "Q: 我去市場買了6個香蕉，給了朋友3個香蕉，我還剩下多少個?\n",
        "A:\n",
        "  1. 我一開始有6個\n",
        "  2. 給了朋友3個，所以剩下 6-3=3個香蕉\n",
        "  3. 最後剩下3個香蕉\n",
        "\n",
        "Q: 我去市場買了10個蘋果。我給了鄰居2個蘋果，又給修理工2個蘋果。之後，我又去買了5個蘋果，然後吃了1個。我還剩下多少個蘋果？\n",
        "A:\n",
        "\"\"\"\n",
        "\n",
        "response = model.generate_content(prompt)\n",
        "print(response.text)\n"
      ]
    },
    {
      "cell_type": "code",
      "execution_count": null,
      "metadata": {},
      "outputs": [],
      "source": [
        "# Zero-shot CoT (讓模型自己想步驟)\n",
        "# 標準咒語是 Let's think step by step\n",
        "prompt = \"\"\"\n",
        "我去市場買了10個蘋果。我給了鄰居2個蘋果，又給修理工2個蘋果。之後，我又去買了5個蘋果，然後吃了1個。我還剩下多少個蘋果？\n",
        "Let's think step by step\n",
        "\"\"\"\n",
        "\n",
        "response = model.generate_content(prompt)\n",
        "print(response.text)\n"
      ]
    },
    {
      "cell_type": "raw",
      "metadata": {
        "vscode": {
          "languageId": "raw"
        }
      },
      "source": [
        "## 如何做 結構化輸出 (JSON 輸出) ?\n"
      ]
    },
    {
      "cell_type": "code",
      "execution_count": null,
      "metadata": {},
      "outputs": [],
      "source": [
        "prompt = \"請隨機產生三個 user 資料，請用 JSON 格式回傳\"\n",
        "\n",
        "response = model.generate_content(prompt)\n",
        "print(response.text)\n"
      ]
    },
    {
      "cell_type": "code",
      "execution_count": null,
      "metadata": {},
      "outputs": [],
      "source": [
        "# Gemini 的 Structured Output 功能\n",
        "# 文件: https://ai.google.dev/gemini-api/docs/json-mode\n",
        "\n",
        "# 定義 JSON Schema\n",
        "response_schema = {\n",
        "    \"type\": \"object\",\n",
        "    \"properties\": {\n",
        "        \"name\": {\n",
        "            \"type\": \"string\",\n",
        "            \"description\": \"請用台灣常見姓名\"\n",
        "        },\n",
        "        \"age\": {\n",
        "            \"type\": \"integer\",\n",
        "            \"description\": \"年紀\"\n",
        "        },\n",
        "        \"bio\": {\n",
        "            \"type\": \"string\",\n",
        "            \"description\": \"請用台灣繁體中文\"\n",
        "        },\n",
        "        \"avatar_url\": {\n",
        "            \"type\": \"string\",\n",
        "            \"description\": \"個人圖像，請用真實可以連結的圖片\"\n",
        "        },\n",
        "        \"isSubscriber\": {\n",
        "            \"type\": \"boolean\",\n",
        "            \"description\": \"是否訂閱\"\n",
        "        }\n",
        "    },\n",
        "    \"required\": [\n",
        "        \"name\",\n",
        "        \"age\", \n",
        "        \"bio\",\n",
        "        \"avatar_url\",\n",
        "        \"isSubscriber\"\n",
        "    ]\n",
        "}\n",
        "\n",
        "# 使用 response schema 的模型\n",
        "model_structured = genai.GenerativeModel(\n",
        "    'gemini-1.5-flash',\n",
        "    generation_config=genai.GenerationConfig(\n",
        "        response_mime_type=\"application/json\",\n",
        "        response_schema=response_schema\n",
        "    )\n",
        ")\n",
        "\n",
        "response = model_structured.generate_content(prompt)\n",
        "print(response.text)\n"
      ]
    },
    {
      "cell_type": "code",
      "execution_count": null,
      "metadata": {},
      "outputs": [],
      "source": [
        "# 使用 Pydantic 定義 schema 更方便\n",
        "from typing import List\n",
        "from pydantic import Field, BaseModel, ConfigDict\n",
        "\n",
        "class User(BaseModel):\n",
        "    name: str = Field(description=\"請用台灣常見姓名\")\n",
        "    age: int = Field(description=\"年紀\")\n",
        "    bio: str = Field(description=\"請用台灣繁體中文\")\n",
        "    avatar_url: str = Field(description=\"個人圖像，請用真實可以連結的圖片\")\n",
        "    isSubscriber: bool = Field(description=\"是否訂閱\")\n",
        "\n",
        "class Users(BaseModel):\n",
        "    users: list[User]\n",
        "\n",
        "# 將 Pydantic model 轉換為 Gemini 可用的 schema\n",
        "def pydantic_to_gemini_schema(pydantic_model):\n",
        "    schema = pydantic_model.model_json_schema()\n",
        "    return schema\n",
        "\n",
        "users_schema = pydantic_to_gemini_schema(Users)\n",
        "print(\"Generated Schema:\", users_schema)\n"
      ]
    },
    {
      "cell_type": "code",
      "execution_count": null,
      "metadata": {},
      "outputs": [],
      "source": [
        "# 使用 Pydantic schema 創建模型\n",
        "model_pydantic = genai.GenerativeModel(\n",
        "    'gemini-1.5-flash',\n",
        "    generation_config=genai.GenerationConfig(\n",
        "        response_mime_type=\"application/json\",\n",
        "        response_schema=users_schema\n",
        "    )\n",
        ")\n",
        "\n",
        "response = model_pydantic.generate_content(\"請隨機產生多個 user 資料\")\n",
        "print(response.text)\n",
        "\n",
        "# 解析回應到 Pydantic 物件\n",
        "import json\n",
        "response_data = json.loads(response.text)\n",
        "parsed_users = Users(**response_data)\n",
        "print(\"\\n解析後的第一個用戶:\", parsed_users.users[0])\n"
      ]
    },
    {
      "cell_type": "raw",
      "metadata": {
        "vscode": {
          "languageId": "raw"
        }
      },
      "source": [
        "## Prompt Chaining: 工具串接\n",
        "\n",
        "三個步驟:\n",
        "\n",
        "1. 從用戶問題中，用 prompt1 來提取出 外部工具的參數\n",
        "2. 執行外部工具，拿到結果\n",
        "3. 用 (prompt2 + 結果) 轉成自然語言回給用戶\n"
      ]
    },
    {
      "cell_type": "code",
      "execution_count": null,
      "metadata": {},
      "outputs": [],
      "source": [
        "# Step 1: 從用戶問題中，用 prompt1 來提取出 外部工具的參數\n",
        "from typing import List\n",
        "from pydantic import Field, BaseModel\n",
        "\n",
        "class QueryResult(BaseModel):\n",
        "    date: str = Field(description=\"Date in yyyymmdd format. Leave empty if not parsable\")\n",
        "    stock_code: str = Field(description=\"Taiwan stock code as a 4-digit number. Leave empty if not parsable\")\n",
        "\n",
        "query = \"請問2025年4月10號的台積電，股價表現如何?\"\n",
        "\n",
        "# 創建專門用於參數提取的模型\n",
        "extract_model = genai.GenerativeModel(\n",
        "    'gemini-1.5-flash',\n",
        "    system_instruction=\"Extract from user queries\",\n",
        "    generation_config=genai.GenerationConfig(\n",
        "        response_mime_type=\"application/json\",\n",
        "        response_schema=pydantic_to_gemini_schema(QueryResult)\n",
        "    )\n",
        ")\n",
        "\n",
        "response = extract_model.generate_content(query)\n",
        "extracted_data = json.loads(response.text)\n",
        "parsed_result = QueryResult(**extracted_data)\n",
        "print(\"提取的參數:\", parsed_result)\n"
      ]
    },
    {
      "cell_type": "code",
      "execution_count": null,
      "metadata": {},
      "outputs": [],
      "source": [
        "# Step 2: 執行工具，拿到結果\n",
        "# API 參考自 https://medium.com/%E5%B7%A5%E7%A8%8B%E9%9A%A8%E5%AF%AB%E7%AD%86%E8%A8%98/5%E7%A8%AE%E6%8A%93%E5%8F%96%E5%8F%B0%E8%82%A1%E6%AD%B7%E5%8F%B2%E8%82%A1%E5%83%B9%E7%9A%84%E6%96%B9%E6%B3%95-766bf2ed9d6\n",
        "\n",
        "import requests\n",
        "import json\n",
        "\n",
        "date = parsed_result.date\n",
        "stock_code = parsed_result.stock_code\n",
        "url = 'https://www.twse.com.tw/exchangeReport/STOCK_DAY?response=json&date=%s&stockNo=%s' % (date, stock_code)\n",
        "\n",
        "html = requests.get(url)\n",
        "context = json.loads(html.text)\n",
        "print(\"取得的股價資料:\", context)\n"
      ]
    },
    {
      "cell_type": "code",
      "execution_count": null,
      "metadata": {},
      "outputs": [],
      "source": [
        "# Step 3: 用 (prompt2 + 結果) 轉成自然語言回給用戶\n",
        "prompt = f\"\"\"\n",
        "Based on the provided context, please answer the following question in Traditional Chinese (Taiwan):\n",
        "\n",
        "Question: <question>{query}</question>\n",
        "\n",
        "Context: <context>{context}</context>\n",
        "\n",
        "Instructions:\n",
        "1. Carefully verify that your answer is supported by the given context.\n",
        "2. If the question cannot be answered from the provided context, respond with: \"抱歉，在提供的資料中找不到相關資訊，無法回答您的問題。\"\n",
        "3. Do not include information that is not present in the context.\n",
        "4. Ensure your response is written in Traditional Chinese as used in Taiwan.\n",
        "\"\"\"\n",
        "\n",
        "response = model.generate_content(prompt)\n",
        "print(\"最終回答:\", response.text)\n"
      ]
    },
    {
      "cell_type": "raw",
      "metadata": {
        "vscode": {
          "languageId": "raw"
        }
      },
      "source": [
        "## Function Calling\n",
        "\n",
        "Gemini 的 Function Calling 功能與 OpenAI 相似，但語法略有不同\n"
      ]
    },
    {
      "cell_type": "code",
      "execution_count": null,
      "metadata": {},
      "outputs": [],
      "source": [
        "# Step 1: 定義工具函式\n",
        "def web_search(keyword: str) -> str:\n",
        "    \"\"\"搜尋最新的資訊\"\"\"\n",
        "    # 模擬搜尋結果\n",
        "    return f\"搜尋關鍵字 '{keyword}' 的結果: 今天台北天氣晴朗，氣溫25度，適合外出活動。\"\n",
        "\n",
        "# Step 2: 定義函數描述給 Gemini\n",
        "web_search_func = genai.protos.FunctionDeclaration(\n",
        "    name=\"web_search\",\n",
        "    description=\"搜尋最新的資訊\",\n",
        "    parameters=genai.protos.Schema(\n",
        "        type=genai.protos.Type.OBJECT,\n",
        "        properties={\n",
        "            \"keyword\": genai.protos.Schema(\n",
        "                type=genai.protos.Type.STRING,\n",
        "                description=\"搜尋關鍵字\"\n",
        "            )\n",
        "        },\n",
        "        required=[\"keyword\"]\n",
        "    )\n",
        ")\n",
        "\n",
        "# Step 3: 創建包含工具的模型\n",
        "model_with_tools = genai.GenerativeModel(\n",
        "    'gemini-1.5-flash',\n",
        "    tools=[genai.protos.Tool(function_declarations=[web_search_func])]\n",
        ")\n",
        "\n",
        "# Step 4: 發送請求\n",
        "from datetime import datetime\n",
        "today = datetime.now().strftime(\"%Y/%m/%d\")\n",
        "response = model_with_tools.generate_content(f\"今天 {today} 台北天氣如何?\")\n",
        "\n",
        "print(\"模型回應:\")\n",
        "print(response.text)\n",
        "print(\"\\nFunction Calls:\")\n",
        "for part in response.parts:\n",
        "    if part.function_call:\n",
        "        print(f\"Function: {part.function_call.name}\")\n",
        "        print(f\"Arguments: {dict(part.function_call.args)}\")\n"
      ]
    },
    {
      "cell_type": "code",
      "execution_count": null,
      "metadata": {},
      "outputs": [],
      "source": [
        "# Step 5: 處理函數調用並執行\n",
        "available_functions = {\n",
        "    \"web_search\": web_search\n",
        "}\n",
        "\n",
        "# 如果有函數調用，執行它們\n",
        "if any(part.function_call for part in response.parts):\n",
        "    # 收集函數調用結果\n",
        "    function_responses = []\n",
        "    \n",
        "    for part in response.parts:\n",
        "        if part.function_call:\n",
        "            function_name = part.function_call.name\n",
        "            function_args = dict(part.function_call.args)\n",
        "            \n",
        "            print(f\"執行函數: {function_name}({function_args})\")\n",
        "            \n",
        "            # 調用實際函數\n",
        "            function_to_call = available_functions[function_name]\n",
        "            function_result = function_to_call(**function_args)\n",
        "            \n",
        "            print(f\"函數結果: {function_result}\")\n",
        "            \n",
        "            # 準備函數回應\n",
        "            function_response = genai.protos.Part(\n",
        "                function_response=genai.protos.FunctionResponse(\n",
        "                    name=function_name,\n",
        "                    response={\"result\": function_result}\n",
        "                )\n",
        "            )\n",
        "            function_responses.append(function_response)\n",
        "    \n",
        "    # Step 6: 將函數結果回傳給模型生成最終回應\n",
        "    final_response = model_with_tools.generate_content([\n",
        "        genai.protos.Content(parts=response.parts),  # 原始回應\n",
        "        genai.protos.Content(parts=function_responses)  # 函數結果\n",
        "    ])\n",
        "    \n",
        "    print(\"\\n最終回應:\")\n",
        "    print(final_response.text)\n"
      ]
    },
    {
      "cell_type": "code",
      "execution_count": null,
      "metadata": {},
      "outputs": [],
      "source": [
        "# 包成一個完整的 function calling 輔助函數\n",
        "def run_gemini_with_functions(model, user_message, available_functions):\n",
        "    \"\"\"執行帶有函數調用的 Gemini 請求\"\"\"\n",
        "    \n",
        "    print(f\"💬 用戶問題: {user_message}\")\n",
        "    \n",
        "    # 第一次調用\n",
        "    response = model.generate_content(user_message)\n",
        "    \n",
        "    # 檢查是否有函數調用\n",
        "    function_calls = [part for part in response.parts if part.function_call]\n",
        "    \n",
        "    if function_calls:\n",
        "        print(\"🔧 檢測到函數調用\")\n",
        "        \n",
        "        # 執行所有函數調用\n",
        "        function_responses = []\n",
        "        \n",
        "        for part in response.parts:\n",
        "            if part.function_call:\n",
        "                function_name = part.function_call.name\n",
        "                function_args = dict(part.function_call.args)\n",
        "                \n",
        "                print(f\"   ⚙️ 執行函數 {function_name} 參數 {function_args}\")\n",
        "                \n",
        "                # 調用實際函數\n",
        "                function_to_call = available_functions[function_name]\n",
        "                function_result = function_to_call(**function_args)\n",
        "                \n",
        "                # 準備函數回應\n",
        "                function_response = genai.protos.Part(\n",
        "                    function_response=genai.protos.FunctionResponse(\n",
        "                        name=function_name,\n",
        "                        response={\"result\": function_result}\n",
        "                    )\n",
        "                )\n",
        "                function_responses.append(function_response)\n",
        "        \n",
        "        # 第二次調用，包含函數結果\n",
        "        final_response = model.generate_content([\n",
        "            genai.protos.Content(parts=response.parts),\n",
        "            genai.protos.Content(parts=function_responses)\n",
        "        ])\n",
        "        \n",
        "        return final_response.text\n",
        "    else:\n",
        "        # 沒有函數調用，直接返回\n",
        "        return response.text\n",
        "\n",
        "# 測試這個輔助函數\n",
        "result = run_gemini_with_functions(\n",
        "    model_with_tools, \n",
        "    \"今天台北、新竹、高雄的天氣如何？\", \n",
        "    available_functions\n",
        ")\n",
        "\n",
        "print(\"------\")\n",
        "print(\"最終結果:\", result)\n"
      ]
    },
    {
      "cell_type": "raw",
      "metadata": {
        "vscode": {
          "languageId": "raw"
        }
      },
      "source": [
        "## Gemini 的多模態能力\n",
        "\n",
        "Gemini 原生支援圖像、音訊、影片等多種輸入格式，這是它相比 OpenAI 的一大優勢\n"
      ]
    },
    {
      "cell_type": "code",
      "execution_count": null,
      "metadata": {},
      "outputs": [],
      "source": [
        "# 圖像處理範例\n",
        "# 首先我們需要上傳一個圖像文件到 Gemini\n",
        "\n",
        "# 方法1: 從 URL 載入圖像 (需要 Pillow)\n",
        "%pip install Pillow\n",
        "\n",
        "import PIL.Image\n",
        "import requests\n",
        "from io import BytesIO\n",
        "\n",
        "# 下載一個範例圖像\n",
        "image_url = \"https://upload.wikimedia.org/wikipedia/commons/thumb/d/dd/Gfp-wisconsin-madison-the-nature-boardwalk.jpg/2560px-Gfp-wisconsin-madison-the-nature-boardwalk.jpg\"\n",
        "response = requests.get(image_url)\n",
        "image = PIL.Image.open(BytesIO(response.content))\n",
        "\n",
        "# 使用 Gemini 分析圖像\n",
        "multimodal_model = genai.GenerativeModel('gemini-1.5-flash')\n",
        "response = multimodal_model.generate_content([\n",
        "    \"請詳細描述這張圖片的內容，包括景觀、顏色、氛圍等。請用繁體中文回答。\",\n",
        "    image\n",
        "])\n",
        "\n",
        "print(\"圖像分析結果:\")\n",
        "print(response.text)\n"
      ]
    },
    {
      "cell_type": "raw",
      "metadata": {
        "vscode": {
          "languageId": "raw"
        }
      },
      "source": [
        "## 總結\n",
        "\n",
        "這份 Notebook 示範了 Google Gemini API 的主要功能：\n",
        "\n",
        "1. **基本使用** - 直接 HTTP 請求和 Python SDK\n",
        "2. **System Instructions** - 相當於 OpenAI 的 System Message\n",
        "3. **多輪對話** - 使用 ChatSession\n",
        "4. **Prompt 技術** - Few-shot, Chain-of-Thought 等\n",
        "5. **結構化輸出** - JSON Schema 支援\n",
        "6. **Prompt Chaining** - 工具串接\n",
        "7. **Function Calling** - 函數調用功能\n",
        "8. **多模態能力** - 圖像、音訊、影片處理\n",
        "\n",
        "### Gemini vs OpenAI 主要差異\n",
        "\n",
        "**Gemini 優勢:**\n",
        "- 原生多模態支援\n",
        "- 更長的 context window\n",
        "- 免費額度較大方\n",
        "- Google 生態系整合\n",
        "\n",
        "**OpenAI 優勢:**\n",
        "- 生態系更成熟（工具、框架）\n",
        "- API 穩定性較高\n",
        "- 社群資源豐富\n",
        "- 推理能力通常較強\n",
        "\n",
        "選擇哪個平台應該根據您的具體需求、預算和技術要求來決定。\n"
      ]
    }
  ],
  "metadata": {
    "language_info": {
      "name": "python"
    }
  },
  "nbformat": 4,
  "nbformat_minor": 2
}

{
  "cells": [
    {
      "cell_type": "code",
      "execution_count": 15,
      "id": "9af34461",
      "metadata": {
        "colab": {
          "base_uri": "https://localhost:8080/"
        },
        "id": "9af34461",
        "outputId": "f417b739-67f6-4a46-d3d6-ba81674a4acf"
      },
      "outputs": [
        {
          "output_type": "stream",
          "name": "stdout",
          "text": [
            "{'id': '39310988-c33b-48cf-808a-9415a1c94335', 'model': 'sonar', 'created': 1753247220, 'usage': {'prompt_tokens': 466, 'completion_tokens': 245, 'total_tokens': 711, 'search_context_size': 'low'}, 'citations': ['https://www.twincn.com/item.aspx?no=54249437'], 'search_results': [{'title': '詣大有限公司 - 台灣公司網', 'url': 'https://www.twincn.com/item.aspx?no=54249437', 'date': None, 'last_updated': None}], 'object': 'chat.completion', 'choices': [{'index': 0, 'finish_reason': 'stop', 'message': {'role': 'assistant', 'content': '- **公司名稱**：詣大有限公司  \\n- **統一編號（統編）**：54249437  \\n- **主要產業類型**：查無資料  \\n- **主要經營項目**：查無資料  \\n- **負責人姓名**：林寬銘  \\n- **登記區域（縣市）**：宜蘭縣宜蘭市  \\n- **詳細地址**：宜蘭縣宜蘭市和睦里陽明路131巷87號1樓  \\n- **資本額**：查無資料  \\n- **成立日期**：查無資料  \\n- **公司官網（網址）**：查無資料  \\n- **其他相關網站（104頁面、社群媒體連結等）**：查無資料  \\n\\n搜尋結果與該電話號碼匹配的官方公司資料主要來自台灣公司網，確認該公司為「詣大有限公司」，負責人為林寬銘，位於宜蘭縣宜蘭市。其他詳細營業項目及資本額等官方資料未在公開資料中查獲[1]。'}, 'delta': {'role': 'assistant', 'content': ''}}]}\n",
            "-------\n",
            "- **公司名稱**：詣大有限公司  \n",
            "- **統一編號（統編）**：54249437  \n",
            "- **主要產業類型**：查無資料  \n",
            "- **主要經營項目**：查無資料  \n",
            "- **負責人姓名**：林寬銘  \n",
            "- **登記區域（縣市）**：宜蘭縣宜蘭市  \n",
            "- **詳細地址**：宜蘭縣宜蘭市和睦里陽明路131巷87號1樓  \n",
            "- **資本額**：查無資料  \n",
            "- **成立日期**：查無資料  \n",
            "- **公司官網（網址）**：查無資料  \n",
            "- **其他相關網站（104頁面、社群媒體連結等）**：查無資料  \n",
            "\n",
            "搜尋結果與該電話號碼匹配的官方公司資料主要來自台灣公司網，確認該公司為「詣大有限公司」，負責人為林寬銘，位於宜蘭縣宜蘭市。其他詳細營業項目及資本額等官方資料未在公開資料中查獲[1]。\n",
            "-------\n"
          ]
        }
      ],
      "source": [
        "import requests\n",
        "from google.colab import userdata\n",
        "\n",
        "# Set up the API endpoint and headers\n",
        "api_key = \"Bearer \" + userdata.get('perplexity_api_key')\n",
        "url = \"https://api.perplexity.ai/chat/completions\"\n",
        "headers = {\n",
        "    \"Authorization\": api_key,  # Replace with your actual API key\n",
        "    \"Content-Type\": \"application/json\"\n",
        "}\n",
        "prompt = \"\"\"\n",
        "# 角色\n",
        "你是一位頂尖的資料分析師，專門從公開網路資訊中，深入挖掘並彙整特定公司的全面情報。\n",
        "\n",
        "# 任務\n",
        "根據我提供的「電話號碼」，請進行一次全面性的網路搜尋，目標是找出與該號碼關聯的公司，並整理出該公司的詳細資料。如果找不到特定項目の資訊，必須明確標示為「查無資料」。\n",
        "\n",
        "# 資訊蒐集指引\n",
        "為了完成任務，你的搜尋應特別側重以下幾個面向與可能的資訊來源：\n",
        "1.  透過 Google 搜尋，將電話號碼與公司名稱或統一編號建立關聯。\n",
        "2.  搜尋「中華黃頁網站」找出電話對應的統編及客戶資料。\n",
        "3.  搜尋「104網站」找出電話對應的統編及客戶資料。\n",
        "4.  找到公司名稱或統編後，查詢台灣的「經濟部商工登記公示資料查詢服務」與「財政部稅務入口網」，以獲取如統一編號、資本額、地址、負責人、營業項目等官方紀錄。\n",
        "\n",
        "# 輸出格式\n",
        "請嚴格依照以下格式與順序回覆，所有欄位都必須列出，若無資訊則填寫「查無資料」：\n",
        "\n",
        "- **公司名稱**：\n",
        "- **統一編號（統編）**：\n",
        "- **主要產業類型**：\n",
        "- **主要經營項目**：\n",
        "- **負責人姓名**：\n",
        "- **登記區域（縣市）**：\n",
        "- **詳細地址**：\n",
        "- **資本額**：\n",
        "- **成立日期**：\n",
        "- **公司官網（網址）**：\n",
        "- **其他相關網站（104頁面、社群媒體連結等）**：\n",
        "\n",
        "# 查詢條件\n",
        "- **電話號碼**：03-9374437\n",
        "\"\"\"\n",
        "\n",
        "# Define the request payload\n",
        "payload = {\n",
        "    \"model\": \"sonar\",\n",
        "    \"messages\": [\n",
        "        {\"role\": \"user\", \"content\": prompt}\n",
        "    ]\n",
        "}\n",
        "\n",
        "# Make the API call\n",
        "response = requests.post(url, headers=headers, json=payload)\n",
        "\n",
        "# Print the AI's response\n",
        "print(response.json()) # replace with print(response.json()[\"choices\"][0]['message']['content']) for just the content\n",
        "print(\"-------\")\n",
        "print(response.json()[\"choices\"][0]['message']['content'])\n",
        "print(\"-------\")\n",
        "#print(response.text)"
      ]
    }
  ],
  "metadata": {
    "kernelspec": {
      "display_name": ".venv",
      "language": "python",
      "name": "python3"
    },
    "language_info": {
      "codemirror_mode": {
        "name": "ipython",
        "version": 3
      },
      "file_extension": ".py",
      "mimetype": "text/x-python",
      "name": "python",
      "nbconvert_exporter": "python",
      "pygments_lexer": "ipython3",
      "version": "3.12.0"
    },
    "colab": {
      "provenance": []
    }
  },
  "nbformat": 4,
  "nbformat_minor": 5
}
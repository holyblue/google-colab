{
  "cells": [
    {
      "cell_type": "code",
      "execution_count": null,
      "metadata": {
        "vscode": {
          "languageId": "shellscript"
        }
      },
      "outputs": [],
      "source": [
        "# 安裝必要的套件\n",
        "!pip install librosa soundfile ipython"
      ]
    },
    {
      "cell_type": "code",
      "execution_count": null,
      "metadata": {
        "vscode": {
          "languageId": "shellscript"
        }
      },
      "outputs": [],
      "source": [
        "import librosa\n",
        "import soundfile as sf\n",
        "import numpy as np\n",
        "from IPython.display import Audio, display\n",
        "import matplotlib.pyplot as plt\n",
        "\n",
        "def adjust_audio_speed(input_file, speed_factor=1.0, output_file=None):\n",
        "    \"\"\"\n",
        "    調整音檔播放語速\n",
        "    \n",
        "    參數:\n",
        "    - input_file: 輸入音檔路徑\n",
        "    - speed_factor: 語速倍率 (1.0=原速, 2.0=兩倍速, 0.5=半速)\n",
        "    - output_file: 輸出音檔路徑 (可選)\n",
        "    \n",
        "    回傳:\n",
        "    - (audio_data, sample_rate): 處理後的音檔數據和採樣率\n",
        "    \"\"\"\n",
        "    # 載入音檔\n",
        "    y, sr = librosa.load(input_file)\n",
        "    \n",
        "    # 調整語速（保持音調不變）\n",
        "    y_stretched = librosa.effects.time_stretch(y, rate=speed_factor)\n",
        "    \n",
        "    # 如果指定輸出檔案，則儲存\n",
        "    if output_file:\n",
        "        sf.write(output_file, y_stretched, sr)\n",
        "    \n",
        "    return y_stretched, sr\n",
        "\n",
        "# 使用範例\n",
        "# 假設您有一個音檔 'audio.wav'\n",
        "# 上傳音檔到Colab：點擊左側檔案圖示，拖拽音檔進入\n",
        "\n",
        "# 調整語速為1.5倍\n",
        "audio_1_5x, sr = adjust_audio_speed('your_audio.wav', speed_factor=1.5)\n",
        "\n",
        "# 在Colab中播放原始音檔\n",
        "display(Audio('your_audio.wav'))\n",
        "\n",
        "# 播放調整後的音檔\n",
        "display(Audio(audio_1_5x, rate=sr))\n",
        "\n",
        "# 儲存調整後的音檔\n",
        "sf.write('audio_1_5x_speed.wav', audio_1_5x, sr)\n",
        "\n",
        "# 視覺化音檔波形\n",
        "plt.figure(figsize=(15, 5))\n",
        "plt.subplot(1, 2, 1)\n",
        "y_original, _ = librosa.load('your_audio.wav')\n",
        "plt.plot(y_original[:sr*5])  # 顯示前5秒\n",
        "plt.title('原始音檔')\n",
        "plt.xlabel('樣本')\n",
        "plt.ylabel('振幅')\n",
        "\n",
        "plt.subplot(1, 2, 2)\n",
        "plt.plot(audio_1_5x[:int(sr*5/1.5)])  # 對應的時間長度\n",
        "plt.title('1.5倍速音檔')\n",
        "plt.xlabel('樣本')\n",
        "plt.ylabel('振幅')\n",
        "\n",
        "plt.tight_layout()\n",
        "plt.show()"
      ]
    }
  ],
  "metadata": {
    "colab": {
      "provenance": []
    },
    "kernelspec": {
      "display_name": "Python 3",
      "name": "python3"
    },
    "language_info": {
      "name": "python"
    }
  },
  "nbformat": 4,
  "nbformat_minor": 0
}
